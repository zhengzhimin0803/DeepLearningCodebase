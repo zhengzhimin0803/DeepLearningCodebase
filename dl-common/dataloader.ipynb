{
 "cells": [
  {
   "cell_type": "code",
   "execution_count": 56,
   "metadata": {},
   "outputs": [],
   "source": [
    "%matplotlib inline\n",
    "import os\n",
    "import matplotlib.pyplot as plt\n",
    "import numpy as np\n",
    "import torch\n",
    "from torchvision import transforms\n",
    "from PIL import Image\n",
    "from torch.utils.data import Dataset, DataLoader"
   ]
  },
  {
   "cell_type": "code",
   "execution_count": 57,
   "metadata": {},
   "outputs": [],
   "source": [
    "data_dir = './'\n",
    "train_dir = data_dir + '/train_filelist'\n",
    "valid_dir = data_dir + '/val_filelist'"
   ]
  },
  {
   "cell_type": "markdown",
   "metadata": {},
   "source": [
    "- 1.一般打上标签的格式为 标签 路径\n",
    "- 2.自定义 __init__ __getitem__ 方法"
   ]
  },
  {
   "cell_type": "code",
   "execution_count": 58,
   "metadata": {},
   "outputs": [],
   "source": [
    "\n",
    "class SourceDataset(Dataset):\n",
    "    def __init__(self, root_dir, ann_file, transform=None):\n",
    "        self.ann_file = ann_file\n",
    "        self.root_dir = root_dir\n",
    "        self.img_label = self.load_annotations()\n",
    "        self.img = [os.path.join(self.root_dir,img) for img in list(self.img_label.keys())]\n",
    "        self.label = [label for label in list(self.img_label.values())]\n",
    "        self.transform = transform\n",
    " \n",
    "    def __len__(self):\n",
    "        return len(self.img)\n",
    " \n",
    "    def __getitem__(self, idx):\n",
    "        image = Image.open(self.img[idx])\n",
    "        label = self.label[idx]\n",
    "        if self.transform:\n",
    "            image = self.transform(image)\n",
    "        label = torch.from_numpy(np.array(label))\n",
    "        return image, label\n",
    "    \n",
    "    def load_annotations(self):\n",
    "        data_infos = {}\n",
    "        with open(self.ann_file) as f:\n",
    "            samples = [x.strip().split(' ') for x in f.readlines()]\n",
    "            for filename, gt_label in samples:\n",
    "                data_infos[filename] = np.array(gt_label, dtype=np.int64)\n",
    "        return data_infos"
   ]
  },
  {
   "cell_type": "markdown",
   "metadata": {},
   "source": [
    "比较通用的预处理方法"
   ]
  },
  {
   "cell_type": "code",
   "execution_count": 59,
   "metadata": {},
   "outputs": [],
   "source": [
    "data_transforms = {\n",
    "    'train': \n",
    "        transforms.Compose([\n",
    "        transforms.Resize(64),\n",
    "        transforms.RandomRotation(45),#随机旋转，-45到45度之间随机选\n",
    "        transforms.CenterCrop(64),#从中心开始裁剪\n",
    "        transforms.RandomHorizontalFlip(p=0.5),#随机水平翻转 选择一个概率概率\n",
    "        transforms.RandomVerticalFlip(p=0.5),#随机垂直翻转\n",
    "        transforms.ColorJitter(brightness=0.2, contrast=0.1, saturation=0.1, hue=0.1),#参数1为亮度，参数2为对比度，参数3为饱和度，参数4为色相\n",
    "        transforms.RandomGrayscale(p=0.025),#概率转换成灰度率，3通道就是R=G=B\n",
    "        transforms.ToTensor(),\n",
    "        transforms.Normalize([0.485, 0.456, 0.406], [0.229, 0.224, 0.225])#均值，标准差\n",
    "    ]),\n",
    "    'valid': \n",
    "        transforms.Compose([\n",
    "        transforms.Resize(64),\n",
    "        transforms.CenterCrop(64),\n",
    "        transforms.ToTensor(),\n",
    "        transforms.Normalize([0.485, 0.456, 0.406], [0.229, 0.224, 0.225])\n",
    "    ]),\n",
    "}"
   ]
  },
  {
   "cell_type": "code",
   "execution_count": 60,
   "metadata": {},
   "outputs": [],
   "source": [
    "train_dataset = SourceDataset(root_dir=train_dir, ann_file = './train.txt', transform=data_transforms['train'])\n",
    "val_dataset = SourceDataset(root_dir=valid_dir, ann_file = './val.txt', transform=data_transforms['valid'])"
   ]
  },
  {
   "cell_type": "code",
   "execution_count": 61,
   "metadata": {},
   "outputs": [],
   "source": [
    "train_loader = DataLoader(train_dataset, batch_size=2, shuffle=True)\n",
    "val_loader = DataLoader(val_dataset, batch_size=2, shuffle=True)"
   ]
  },
  {
   "cell_type": "code",
   "execution_count": 62,
   "metadata": {},
   "outputs": [
    {
     "data": {
      "text/plain": [
       "'训练集长度：1'"
      ]
     },
     "metadata": {},
     "output_type": "display_data"
    },
    {
     "data": {
      "text/plain": [
       "'验证集长度：1'"
      ]
     },
     "metadata": {},
     "output_type": "display_data"
    }
   ],
   "source": [
    "display(f\"训练集长度：{len(train_loader)}\")\n",
    "display(f\"验证集长度：{len(val_loader)}\")"
   ]
  },
  {
   "cell_type": "markdown",
   "metadata": {},
   "source": [
    "测试前验证"
   ]
  },
  {
   "cell_type": "code",
   "execution_count": 63,
   "metadata": {},
   "outputs": [
    {
     "data": {
      "image/png": "[encoded data removed]",
      "text/plain": [
       "<Figure size 640x480 with 1 Axes>"
      ]
     },
     "metadata": {},
     "output_type": "display_data"
    },
    {
     "name": "stdout",
     "output_type": "stream",
     "text": [
      "Label is: 0\n"
     ]
    }
   ],
   "source": [
    "train_loader_iter = iter(train_loader)\n",
    "image, label = next(train_loader_iter)\n",
    "sample = image[0].squeeze()\n",
    "sample = sample.permute((1, 2, 0)).numpy()\n",
    "sample *= [0.229, 0.224, 0.225]\n",
    "sample += [0.485, 0.456, 0.406]\n",
    "plt.imshow(sample)\n",
    "plt.show()\n",
    "print('Label is: {}'.format(label[0].numpy()))"
   ]
  },
  {
   "cell_type": "code",
   "execution_count": null,
   "metadata": {},
   "outputs": [],
   "source": []
  },
  {
   "cell_type": "code",
   "execution_count": null,
   "metadata": {},
   "outputs": [],
   "source": []
  }
 ],
 "metadata": {
  "kernelspec": {
   "display_name": "deep",
   "language": "python",
   "name": "python3"
  },
  "language_info": {
   "codemirror_mode": {
    "name": "ipython",
    "version": 3
   },
   "file_extension": ".py",
   "mimetype": "text/x-python",
   "name": "python",
   "nbconvert_exporter": "python",
   "pygments_lexer": "ipython3",
   "version": "3.10.13"
  }
 },
 "nbformat": 4,
 "nbformat_minor": 2
}
